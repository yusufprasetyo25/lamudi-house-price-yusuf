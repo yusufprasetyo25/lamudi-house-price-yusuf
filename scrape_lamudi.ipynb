{
 "cells": [
  {
   "cell_type": "code",
   "execution_count": 2,
   "metadata": {},
   "outputs": [
    {
     "name": "stdout",
     "output_type": "stream",
     "text": [
      "Requirement already satisfied: requests in ./lib/python3.9/site-packages (2.28.2)\n",
      "Requirement already satisfied: charset-normalizer<4,>=2 in ./lib/python3.9/site-packages (from requests) (3.1.0)\n",
      "Requirement already satisfied: idna<4,>=2.5 in ./lib/python3.9/site-packages (from requests) (3.4)\n",
      "Requirement already satisfied: urllib3<1.27,>=1.21.1 in ./lib/python3.9/site-packages (from requests) (1.26.15)\n",
      "Requirement already satisfied: certifi>=2017.4.17 in ./lib/python3.9/site-packages (from requests) (2022.12.7)\n",
      "Requirement already satisfied: numpy in ./lib/python3.9/site-packages (1.24.2)\n",
      "Requirement already satisfied: pandas in ./lib/python3.9/site-packages (2.0.0)\n",
      "Requirement already satisfied: python-dateutil>=2.8.2 in ./lib/python3.9/site-packages (from pandas) (2.8.2)\n",
      "Requirement already satisfied: pytz>=2020.1 in ./lib/python3.9/site-packages (from pandas) (2023.3)\n",
      "Requirement already satisfied: tzdata>=2022.1 in ./lib/python3.9/site-packages (from pandas) (2023.3)\n",
      "Requirement already satisfied: numpy>=1.20.3 in ./lib/python3.9/site-packages (from pandas) (1.24.2)\n",
      "Requirement already satisfied: six>=1.5 in ./lib/python3.9/site-packages (from python-dateutil>=2.8.2->pandas) (1.16.0)\n"
     ]
    }
   ],
   "source": [
    "!pip install requests\n",
    "!pip install numpy\n",
    "!pip install pandas"
   ]
  },
  {
   "cell_type": "code",
   "execution_count": 1,
   "metadata": {},
   "outputs": [],
   "source": [
    "import re\n",
    "import requests\n",
    "import numpy as np\n",
    "import pandas as pd\n",
    "import time"
   ]
  },
  {
   "cell_type": "code",
   "execution_count": 7,
   "metadata": {},
   "outputs": [
    {
     "name": "stdout",
     "output_type": "stream",
     "text": [
      "<!DOCTYPE html>\n",
      "<html>\n",
      "    <head>\n",
      "        <noscript>\n",
      "            <title>Pardon Our Interruption</title>\n",
      "        </noscript>\n",
      "\n",
      "        <meta name=\"viewport\" content=\"width=1000\">\n",
      "        <meta name=\"robots\" content=\"noindex, nofollow\">\n",
      "        <meta http-equiv=\"cache-control\" content=\"no-cache, no-store, must-revalidate\">\n",
      "        <meta http-equiv=\"pragma\" content=\"no-cache\">\n",
      "        <meta http-equiv=\"expires\" content=\"0\">\n",
      "\n",
      "        <style>\n",
      "            .container { max-width: 800px; margin: auto; font-family: 'Helvetica Neue',Helvetica,Arial,sans-serif; color: #7a838c; }\n",
      "            h1 { color: #2a2d30; font-weight: 500; }\n",
      "            li { margin: 0 0 10px; }\n",
      "            a { color: #428bca; }\n",
      "            a:hover, a:focus { color: #2a6496; }\n",
      "        </style>\n",
      "\n",
      "        <script>\n",
      "            function showBlockPage() {\n",
      "                document.title = \"Pardon Our Interruption\"\n",
      "                document.getElementsByClassName(\"container\")[0].style.display = \"block\";\n",
      "            }\n",
      "            setTimeout(showBlockPage, 10000);\n",
      "        </script>\n",
      "        <script type=\"text/javascript\" src=\"/6657193977244c13\" async defer></script>\n",
      "\n",
      "        <script>window.addEventListener('load', showBlockPage)</script>\n",
      "    </head>\n",
      "    <body>\n",
      "        \n",
      "\n",
      "        <div class=\"container\">\n",
      "            <script>document.getElementsByClassName(\"container\")[0].style.display = \"none\";</script>\n",
      "\n",
      "            <h1>Pardon Our Interruption</h1>\n",
      "            <p>As you were browsing something about your browser made us think you were a bot. There are a few reasons this might happen:</p>\n",
      "            <ul>\n",
      "                <noscript><li>You've disabled JavaScript in your web browser.</li></noscript>\n",
      "                <li>You're a power user moving through this website with super-human speed.</li>\n",
      "                <li>You've disabled cookies in your web browser.</li>\n",
      "                <li>A third-party browser plugin, such as Ghostery or NoScript, is preventing JavaScript from running. Additional information is available in this <a title='Third party browser plugins that block javascript' href='http://ds.tl/help-third-party-plugins' target='_blank'>support article</a>.</li>\n",
      "            </ul>\n",
      "\n",
      "            <p id=\"extraUnblock\"><small style=\"font-size: 8pt\">IP: 180.243.8.202, Request ID: MbTq3ft6hEZ7Dxrxqk1PgloYDplirGJS1EayCD5k2Emv3WMy3y8u8w==</small></p>`\n",
      "        </div>\n",
      "    </body>\n",
      "</html>\n",
      "\n",
      "\n"
     ]
    }
   ],
   "source": [
    "url = 'https://www.lamudi.co.id/jakarta/house/buy/?page=1'\n",
    "r = requests.get(url)\n",
    "html = r.text\n",
    "for line in html.split('\\n'):\n",
    "    print(line)"
   ]
  },
  {
   "attachments": {},
   "cell_type": "markdown",
   "metadata": {},
   "source": [
    "Apparently there is a validation when trying to scrape. However, when I look to the website, there is no explicit statement about scraping prohibition. Therefore, we are going to use another route. That is, Selenium."
   ]
  },
  {
   "cell_type": "code",
   "execution_count": 11,
   "metadata": {},
   "outputs": [
    {
     "name": "stdout",
     "output_type": "stream",
     "text": [
      "Requirement already satisfied: selenium in ./lib/python3.9/site-packages (4.8.3)\n",
      "Requirement already satisfied: urllib3[socks]~=1.26 in ./lib/python3.9/site-packages (from selenium) (1.26.15)\n",
      "Requirement already satisfied: trio~=0.17 in ./lib/python3.9/site-packages (from selenium) (0.22.0)\n",
      "Requirement already satisfied: trio-websocket~=0.9 in ./lib/python3.9/site-packages (from selenium) (0.10.2)\n",
      "Requirement already satisfied: certifi>=2021.10.8 in ./lib/python3.9/site-packages (from selenium) (2022.12.7)\n",
      "Requirement already satisfied: attrs>=19.2.0 in ./lib/python3.9/site-packages (from trio~=0.17->selenium) (23.1.0)\n",
      "Requirement already satisfied: sortedcontainers in ./lib/python3.9/site-packages (from trio~=0.17->selenium) (2.4.0)\n",
      "Requirement already satisfied: async-generator>=1.9 in ./lib/python3.9/site-packages (from trio~=0.17->selenium) (1.10)\n",
      "Requirement already satisfied: idna in ./lib/python3.9/site-packages (from trio~=0.17->selenium) (3.4)\n",
      "Requirement already satisfied: outcome in ./lib/python3.9/site-packages (from trio~=0.17->selenium) (1.2.0)\n",
      "Requirement already satisfied: sniffio in ./lib/python3.9/site-packages (from trio~=0.17->selenium) (1.3.0)\n",
      "Requirement already satisfied: exceptiongroup>=1.0.0rc9 in ./lib/python3.9/site-packages (from trio~=0.17->selenium) (1.1.1)\n",
      "Requirement already satisfied: wsproto>=0.14 in ./lib/python3.9/site-packages (from trio-websocket~=0.9->selenium) (1.2.0)\n",
      "Requirement already satisfied: PySocks!=1.5.7,<2.0,>=1.5.6 in ./lib/python3.9/site-packages (from urllib3[socks]~=1.26->selenium) (1.7.1)\n",
      "Requirement already satisfied: h11<1,>=0.9.0 in ./lib/python3.9/site-packages (from wsproto>=0.14->trio-websocket~=0.9->selenium) (0.14.0)\n",
      "Collecting webdriver_manager\n",
      "  Downloading webdriver_manager-3.8.6-py2.py3-none-any.whl (27 kB)\n",
      "Requirement already satisfied: requests in ./lib/python3.9/site-packages (from webdriver_manager) (2.28.2)\n",
      "Collecting python-dotenv (from webdriver_manager)\n",
      "  Downloading python_dotenv-1.0.0-py3-none-any.whl (19 kB)\n",
      "Requirement already satisfied: tqdm in ./lib/python3.9/site-packages (from webdriver_manager) (4.65.0)\n",
      "Requirement already satisfied: packaging in ./lib/python3.9/site-packages (from webdriver_manager) (23.1)\n",
      "Requirement already satisfied: charset-normalizer<4,>=2 in ./lib/python3.9/site-packages (from requests->webdriver_manager) (3.1.0)\n",
      "Requirement already satisfied: idna<4,>=2.5 in ./lib/python3.9/site-packages (from requests->webdriver_manager) (3.4)\n",
      "Requirement already satisfied: urllib3<1.27,>=1.21.1 in ./lib/python3.9/site-packages (from requests->webdriver_manager) (1.26.15)\n",
      "Requirement already satisfied: certifi>=2017.4.17 in ./lib/python3.9/site-packages (from requests->webdriver_manager) (2022.12.7)\n",
      "Installing collected packages: python-dotenv, webdriver_manager\n",
      "Successfully installed python-dotenv-1.0.0 webdriver_manager-3.8.6\n"
     ]
    }
   ],
   "source": [
    "!pip install selenium\n",
    "!pip install webdriver_manager"
   ]
  },
  {
   "cell_type": "code",
   "execution_count": 2,
   "metadata": {},
   "outputs": [],
   "source": [
    "from selenium import webdriver\n",
    "from selenium.webdriver.chrome.service import Service\n",
    "from webdriver_manager.chrome import ChromeDriverManager\n",
    "from selenium.webdriver.common.by import By"
   ]
  },
  {
   "cell_type": "code",
   "execution_count": 14,
   "metadata": {},
   "outputs": [],
   "source": [
    "links = []\n",
    "data_price_s = []\n",
    "data_category_s = []\n",
    "data_subcategories_s = []\n",
    "data_bedrooms_s = []\n",
    "data_bathrooms_s = []\n",
    "data_building_size_s = []\n",
    "data_land_size_s = []\n",
    "data_furnished_s = []\n",
    "data_sku_s = []\n",
    "data_geo_point_s = []\n",
    "page_link_s = []\n",
    "parent_link_s = []\n",
    "driver = webdriver.Chrome(service=Service(ChromeDriverManager().install()))\n",
    "driver.get(\"https://www.lamudi.co.id/jakarta/house/buy/\")\n",
    "click_expand = driver.find_element(By.XPATH, '//*[@id=\"js-crosslinkTopFilter\"]/a').click()\n",
    "sublinks = driver.find_elements(By.XPATH, '//*[@id=\"js-crosslinkTopFilter\"]/div/div/div/a')\n",
    "for tag in sublinks:\n",
    "    links.append(tag.get_attribute('href'))\n",
    "driver.quit()\n",
    "for link in links: # start from 18th link since there was a problem with page in previous loop\n",
    "    driver = webdriver.Chrome(service=Service(ChromeDriverManager().install()))\n",
    "    driver.get(link)\n",
    "    page_end = 1 # initialize page_end with number 1 to be refined, only for looping purpose\n",
    "    page_iter = 1\n",
    "    while page_iter <= page_end:\n",
    "        info = driver.find_elements(By.CSS_SELECTOR, \".ListingCell-AllInfo.ListingUnit\")\n",
    "        info_a = driver.find_elements(By.CSS_SELECTOR, \".js-listing-link\")\n",
    "        try:\n",
    "            page_end = int(driver.find_element(By.CSS_SELECTOR, \"*[data-pagination-end]:last-child\").get_attribute('data-pagination-end'))\n",
    "        except:\n",
    "            pass\n",
    "        for i in range(len(info)):\n",
    "            data_price_s.append(info[i].get_attribute('data-price'))\n",
    "            data_category_s.append(info[i].get_attribute('data-category'))\n",
    "            data_subcategories_s.append(info[i].get_attribute('data-subcategories'))\n",
    "            data_bedrooms_s.append(info[i].get_attribute('data-bedrooms'))\n",
    "            data_bathrooms_s.append(info[i].get_attribute('data-bathrooms'))\n",
    "            data_building_size_s.append(info[i].get_attribute('data-building_size'))\n",
    "            data_land_size_s.append(info[i].get_attribute('data-land_size'))\n",
    "            data_furnished_s.append(info[i].get_attribute('data-furnished'))\n",
    "            data_sku_s.append(info[i].get_attribute('data-sku'))\n",
    "            data_geo_point_s.append(info[i].get_attribute('data-geo-point'))\n",
    "            page_link_s.append(info_a[i*2].get_attribute('href')) # js-listing-link class is written twice in the website\n",
    "            parent_link_s.append(link)\n",
    "        page_iter += 1\n",
    "        if page_end >= page_iter:\n",
    "            click_expand = driver.find_element(By.CSS_SELECTOR, '.next a[data-next-page]').click()\n",
    "            time.sleep(2.811 + np.random.normal(loc=0.0,scale=0.627)) # delay so it doesn't break or startle the website\n",
    "    driver.quit()\n",
    "df = pd.DataFrame(data={'data_price_s': data_price_s,\n",
    "'data_category_s': data_category_s,\n",
    "'data_subcategories_s': data_subcategories_s,\n",
    "'data_bedrooms_s': data_bedrooms_s,\n",
    "'data_bathrooms_s': data_bathrooms_s,\n",
    "'data_building_size_s': data_building_size_s,\n",
    "'data_land_size_s': data_land_size_s,\n",
    "'data_furnished_s': data_furnished_s,\n",
    "'data_sku_s': data_sku_s,\n",
    "'data_geo_point_s': data_geo_point_s,\n",
    "'page_link_s': page_link_s,\n",
    "'parent_link_s': parent_link_s})\n",
    "df.to_csv('lamudi_house_dataset.csv')"
   ]
  },
  {
   "attachments": {},
   "cell_type": "markdown",
   "metadata": {},
   "source": [
    "Let's check the output"
   ]
  },
  {
   "cell_type": "code",
   "execution_count": 16,
   "metadata": {},
   "outputs": [
    {
     "name": "stdout",
     "output_type": "stream",
     "text": [
      "['1100000000', '980000000', '550000000', '730000000', '4500000000', '10000000000', '1800000000', '451000000', '2000000000', '451000000', '270000000', '980000000', '965000000', '2500000000', '1311000000', '950000000', '185000000', '420000000', '5300000000', '587000000', '2800000000', '17000000000', '539000000', '4500000000', '7800000000', '448000000', '6500000000', '1333000000', '1117000000', '7000000000', '8000000000', '7000000000', '980225548', '730000000', '280000000', '5300000000', '7000000000', '1035123013', '1032450038', '185000000', '17000000000', '964059202', '962456061', '963214174', '1049800566', '964132500', '962038202', '964132500', '963568000', '964523080', '971999999', '962026582', '963852030', '962069000', '1034580011', '961026205', '1033018205', '964056505', '963050505', '925808446', '6000000000', '2300000000', '1450000000', '3000000000', '2950000000', '3000000000', '1850000000', '3500000000', '3950000000', '1900000000', '1800000000', '6300000000', '1900000000', '1500000000', '950000000', '950000000', '3600000000', '2700000000', '1650000000', '2600000000', '5000000000', '2550000000', '3600000000', '345000000', '4500000000', '990000000', '1400000000', '1350000000', '1300000000', '1500000000', '1450000000', '380000000', '550000000', '4000000000', '1100000000', '550000000', '6500000000', '1850000000', '3450000000', '2750000000']\n",
      "['house', 'house', 'house', 'house', 'house', 'house', 'house', 'house', 'house', 'house', 'house', 'house', 'house', 'house', 'house', 'house', 'house', 'house', 'house', 'house', 'house', 'house', 'house', 'house', 'house', 'house', 'house', 'house', 'house', 'house', 'house', 'house', 'house', 'house', 'house', 'house', 'house', 'house', 'house', 'house', 'house', 'house', 'house', 'house', 'house', 'house', 'house', 'house', 'house', 'house', 'house', 'house', 'house', 'house', 'house', 'house', 'house', 'house', 'house', 'house', 'house', 'house', 'house', 'house', 'house', 'house', 'house', 'house', 'house', 'house', 'house', 'house', 'house', 'house', 'house', 'house', 'house', 'house', 'house', 'house', 'house', 'house', 'house', 'house', 'house', 'house', 'house', 'house', 'house', 'house', 'house', 'house', 'house', 'house', 'house', 'house', 'house', 'house', 'house', 'house']\n",
      "['[\"house\",\"single-family-house\"]', '[\"house\",\"townhouse\"]', '[\"house\",\"single-family-house\"]', '[\"house\",\"single-family-house\"]', '[\"house\",\"single-family-house\"]', '[\"house\",\"single-family-house\"]', '[\"house\",\"single-family-house\"]', '[\"house\",\"single-family-house\"]', '[\"house\",\"single-family-house\"]', '[\"house\",\"single-family-house\"]', '[\"house\",\"single-family-house\"]', '[\"house\",\"townhouse\"]', '[\"house\",\"townhouse\"]', '[\"house\",\"single-family-house\"]', '[\"house\",\"single-family-house\"]', '[\"house\",\"single-family-house\"]', '[\"house\",\"single-family-house\"]', '[\"house\",\"single-family-house\"]', '[\"house\",\"boarding-house\"]', '[\"house\",\"single-family-house\"]', '[\"house\",\"single-family-house\"]', '[\"house\",\"single-family-house\"]', '[\"house\",\"single-family-house\"]', '[\"house\",\"single-family-house\"]', '[\"house\",\"single-family-house\"]', '[\"house\",\"single-family-house\"]', '[\"house\",\"single-family-house\"]', '[\"house\",\"single-family-house\"]', '[\"house\",\"townhouse\"]', '[\"house\",\"single-family-house\"]', '[\"house\",\"boarding-house\"]', '[\"house\",\"single-family-house\"]', '[\"house\",\"townhouse\"]', '[\"house\",\"single-family-house\"]', '[\"house\",\"single-family-house\"]', '[\"house\",\"boarding-house\"]', '[\"house\",\"single-family-house\"]', '[\"house\",\"single-family-house\"]', '[\"house\",\"single-family-house\"]', '[\"house\",\"single-family-house\"]', '[\"house\",\"single-family-house\"]', '[\"house\",\"single-family-house\"]', '[\"house\",\"single-family-house\"]', '[\"house\",\"single-family-house\"]', '[\"house\",\"single-family-house\"]', '[\"house\",\"single-family-house\"]', '[\"house\",\"single-family-house\"]', '[\"house\",\"single-family-house\"]', '[\"house\",\"single-family-house\"]', '[\"house\",\"single-family-house\"]', '[\"house\",\"single-family-house\"]', '[\"house\",\"single-family-house\"]', '[\"house\",\"single-family-house\"]', '[\"house\",\"single-family-house\"]', '[\"house\",\"single-family-house\"]', '[\"house\",\"single-family-house\"]', '[\"house\",\"single-family-house\"]', '[\"house\",\"single-family-house\"]', '[\"house\",\"single-family-house\"]', '[\"house\",\"single-family-house\"]', '[\"house\",\"single-family-house\"]', '[\"house\",\"single-family-house\"]', '[\"house\",\"single-family-house\"]', '[\"house\",\"single-family-house\"]', '[\"house\",\"single-family-house\"]', '[\"house\",\"single-family-house\"]', '[\"house\",\"single-family-house\"]', '[\"house\",\"single-family-house\"]', '[\"house\",\"single-family-house\"]', '[\"house\",\"single-family-house\"]', '[\"house\",\"single-family-house\"]', '[\"house\",\"single-family-house\"]', '[\"house\",\"single-family-house\"]', '[\"house\",\"single-family-house\"]', '[\"house\",\"single-family-house\"]', '[\"house\",\"single-family-house\"]', '[\"house\",\"single-family-house\"]', '[\"house\",\"single-family-house\"]', '[\"house\",\"single-family-house\"]', '[\"house\",\"single-family-house\"]', '[\"house\",\"single-family-house\"]', '[\"house\",\"single-family-house\"]', '[\"house\",\"single-family-house\"]', '[\"house\",\"single-family-house\"]', '[\"house\",\"single-family-house\"]', '[\"house\",\"single-family-house\"]', '[\"house\",\"single-family-house\"]', '[\"house\",\"single-family-house\"]', '[\"house\",\"single-family-house\"]', '[\"house\",\"single-family-house\"]', '[\"house\",\"single-family-house\"]', '[\"house\",\"single-family-house\"]', '[\"house\",\"single-family-house\"]', '[\"house\",\"boarding-house\"]', '[\"house\",\"single-family-house\"]', '[\"house\",\"single-family-house\"]', '[\"house\",\"single-family-house\"]', '[\"house\",\"single-family-house\"]', '[\"house\",\"single-family-house\"]', '[\"house\",\"single-family-house\"]']\n",
      "['1', '3', '2', '2', '8', '4', '6', '2', '4', '2', '2', '3', '3', '4', '3', '2', '2', '2', '17', '3', '2', '7', '3', '7', '4', '2', '5', '3', '3', '4', '15', '4', '3', '2', '2', '17', '4', '2', '2', '2', '7', '3', '3', '3', '2', '3', '3', '3', '3', '3', '3', '3', '3', '3', '2', '3', '2', '3', '3', '3', '4', '4', '1', '3', '4', '4', '3', '4', '5', '2', '3', '3', '2', '3', '3', '2', '4', '4', '2', '3', '4', '4', '4', '2', '4', '2', '3', '3', '2', '2', '3', '1', '2', '38', '11', '1', '4', '3', '3', '3']\n",
      "['1', '2', '2', '1', '5', '6', '3', '1', '3', '1', '1', '2', '2', '5', '3', '2', '1', '1', '17', '2', '3', '7', '1', '5', '3', '1', '5', '3', '2', '3', '10', '3', '2', '1', '1', '17', '3', '2', '2', '1', '7', '2', '2', '2', '2', '2', '2', '2', '2', '2', '2', '2', '2', '2', '2', '2', '2', '2', '2', '2', '3', '3', '2', '2', '3', '3', '1', '3', '3', '3', '2', '3', '3', '2', '2', '3', '3', '3', '3', '2', '4', '3', '4', '1', '4', '2', '1', '3', '2', '1', '3', '1', '1', '4', '3', '2', '4', '3', '2', '2']\n",
      "['21', '60', '48', '45', '700', '400', '210', '36', '200', '36', '36', '60', '60', '250', '83', '90', '36', '36', '260', '60', '181', '653', '36', '6', '570', '50', '300', '83', '70', '570', '400', '570', '60', '45', '60', '260', '570', '60', '68', '36', '653', '60', '60', '60', '60', '60', '60', '60', '60', '60', '60', '60', '60', '60', '60', '60', '60', '60', '60', '60', '280', '214', '100', '157', '198', '200', '0', '244', '350', '239', '180', '604', '214', '0', '180', '73', '275', '270', '126', '180', '280', '146', '180', '52', '396', '140', '75', '96', '165', '90', '120', '35', '50', '100', '162', '56', '300', '130', '210', '114']\n",
      "['340', '72', '24', '96', '145', '1200', '144', '72', '176', '72', '50', '72', '72', '340', '90', '120', '50', '60', '75', '60', '82', '305', '72', '147', '192.5', '66', '101.75', '90', '74', '192', '150', '192', '72', '96', '72', '75', '192', '75', '75', '50', '305', '72', '72', '72', '75', '72', '72', '72', '72', '72', '72', '72', '72', '72', '75', '72', '75', '72', '72', '72', '266', '71', '65', '157', '135', '138', '84', '176', '210', '80', '99', '240', '80.6', '91', '108', '29', '100', '120', '60', '135', '191', '58', '85', '26', '136', '70', '106', '46', '55', '72', '49', '14', '34', '100', '97', '36', '290', '60', '132', '140']\n",
      "['', '', '', '', '', '', '', '', '', '', '', '', '', '', '', '', '', '', '', '', '', '', '', '', '', '', '', '', '', '', '', '', '', '', '', '', '', None, None, '', '', None, None, None, None, None, None, None, None, None, None, None, None, None, None, None, None, None, None, None, '', '', '', '', '', '', '', '', '', '', '', '', '', '', '', '', '', '', '', '', '', '', '', '', '', '', '', '', '', '', '', '', '', '', '', '', '', '', '', '']\n",
      "['HO6331A238F33BFID', 'HO63F989CFD16DDID', 'HO629F15B1E86B7ID', 'HO62FB6EB39F122ID', 'HO61B216EABC8A5ID', 'HO63DA077F71373ID', 'HO62FB5E3A10F59ID', 'HO640C0142B2702ID', 'HO643404F6D2C21ID', 'HO640C014364BBEID', 'HO641D50A9156AAID', 'HO63F58A813C486ID', 'HO63F4548E6B33CID', 'HO63DB7017A87E9ID', 'HO6266756A757D5ID', 'HO63F88AFFE5E2AID', 'HO640894D342B03ID', 'HO63441503BD36CID', 'HO61C4AD201A2B3ID', 'HO630F0F5945497ID', 'HO62F6310A34715ID', 'HO634F4A0A403E7ID', 'HO630F0F346AB6FID', 'HO6136CCECF20A8ID', 'HO5FBF5976E6608ID', 'HO630DDF71F293DID', 'HO6360A13E60F0FID', 'HO629A089050341ID', 'HO630DDF6C60B40ID', 'HO602E161CEAA07ID', 'HO62283BF6DCA75ID', 'HO602DD422B6149ID', 'HO63F6D27F69131ID', 'HO643D728A97DA8ID', 'HO64378C1952AF2ID', 'HO643D265BAA0C8ID', 'HO643F7506C4A2EID', 'HO63FF3966050F5ID', 'HO63FF3966A9138ID', 'HO640894D342B03ID', 'HO634F4A0A403E7ID', 'HO63F4797D38CFCID', 'HO63F5DB09DE584ID', 'HO63F5DB0BD54DDID', 'HO63F5DB1C2A05AID', 'HO63F6CDC200CAAID', 'HO63F6CDC803FEEID', 'HO63F6CDC8CA4F4ID', 'HO63F6CDCF12F49ID', 'HO63F6CDD55F57BID', 'HO63F731A60496FID', 'HO63F731AB034FBID', 'HO63F731B19FC1CID', 'HO63F731B894494ID', 'HO63F82AE6D1D48ID', 'HO63F82AF6BAF71ID', 'HO63FDF26705741ID', 'HO63FDF26F37BEAID', 'HO63FDF273C86D4ID', 'HO63FF3952C76F6ID', 'HO64287BC53EB15ID', 'HO62A99EB626281ID', 'HO609266330539CID', 'HO62BEDFEFE7D23ID', 'HO6146CD55741D6ID', 'HO61F7D617A7ABBID', 'HO60D9ACEA96B5CID', 'HO61AADA733AB96ID', 'HO61BB47FE9017CID', 'HO624A801310D3FID', 'HO619F6958752A4ID', 'HO62F03832A5F0AID', 'HO62485B0356A32ID', 'HO5FA524506794AID', 'HO60C2473A0B41CID', 'HO62AC097FD9650ID', 'HO60C02DE10857FID', 'HO615C398292E65ID', 'HO6212BE0B20B60ID', 'HO61EC43B1017DBID', 'HO62D449EAAC953ID', 'HO61F1684355BE3ID', 'HO6202DA2DE6C89ID', 'HO614866711060AID', 'HO625F84CC134C3ID', 'HO61263518E4896ID', 'HO61486678894F4ID', 'HO625D1B34D064FID', 'HO640E09EC71396ID', 'HO64068106583DBID', 'HO640EE098C7CCAID', 'HO6412B128F0FA9ID', 'HO640DC58DF26AAID', 'HO640AE94ED9390ID', 'HO641D26CB95225ID', 'HO64229EB9805D5ID', 'HO62A6E8B0EF888ID', 'HO62A47DAE5F409ID', 'HO63E5EABB2AF02ID', 'HO62ECC9D952332ID']\n",
      "['null', '[106.812476,-6.144004]', '[106.812476,-6.144004]', '[106.812476,-6.144004]', '[106.812476,-6.144004]', '[106.812476,-6.144004]', 'null', '[106.812476,-6.144004]', '[106.812476,-6.144004]', '[106.812476,-6.144004]', '[106.812476,-6.144004]', '[106.812476,-6.144004]', '[106.812476,-6.144004]', '[106.812476,-6.144004]', '[106.812476,-6.144004]', '[106.812476,-6.144004]', '[106.812476,-6.144004]', 'null', '[106.812476,-6.144004]', 'null', '[106.812476,-6.144004]', '[106.812476,-6.144004]', 'null', '[106.812476,-6.144004]', '[106.812476,-6.144004]', 'null', '[106.81069,-6.15881]', '[106.812476,-6.144004]', '[106.812476,-6.144004]', '[106.812476,-6.144004]', '[106.812476,-6.144004]', '[106.812476,-6.144004]', '[106.812476,-6.144004]', '[106.812476,-6.144004]', '[106.812476,-6.144004]', '[106.812476,-6.144004]', '[106.812476,-6.144004]', '[106.812476,-6.144004]', '[106.812476,-6.144004]', '[106.812476,-6.144004]', '[106.812476,-6.144004]', '[106.812476,-6.144004]', '[106.812476,-6.144004]', '[106.812476,-6.144004]', '[106.812476,-6.144004]', '[106.812476,-6.144004]', '[106.812476,-6.144004]', '[106.812476,-6.144004]', '[106.812476,-6.144004]', '[106.812476,-6.144004]', '[106.812476,-6.144004]', '[106.812476,-6.144004]', '[106.812476,-6.144004]', '[106.812476,-6.144004]', '[106.812476,-6.144004]', '[106.812476,-6.144004]', '[106.812476,-6.144004]', '[106.812476,-6.144004]', '[106.812476,-6.144004]', '[106.812476,-6.144004]', '[106.7847,-6.1604]', '[106.7847,-6.1604]', '[106.7847,-6.1604]', '[106.7847,-6.1604]', '[106.7847,-6.1604]', '[106.7847,-6.1604]', '[106.7847,-6.1604]', '[106.7847,-6.1604]', '[106.7847,-6.1604]', '[106.7847,-6.1604]', '[106.7847,-6.1604]', 'null', '[106.7847,-6.1604]', '[106.7847,-6.1604]', '[106.7847,-6.1604]', '[106.7847,-6.1604]', '[106.7847,-6.1604]', '[106.7847,-6.1604]', '[106.7847,-6.1604]', '[106.7847,-6.1604]', '[106.7847,-6.1604]', '[106.7847,-6.1604]', '[106.7847,-6.1604]', '[106.7847,-6.1604]', '[106.7847,-6.1604]', '[106.7847,-6.1604]', '[106.7847,-6.1604]', '[106.7847,-6.1604]', '[106.7847,-6.1604]', '[106.7847,-6.1604]', '[106.7847,-6.1604]', '[106.7847,-6.1604]', '[106.7847,-6.1604]', '[106.7847,-6.1604]', '[106.7847,-6.1604]', '[106.7847,-6.1604]', '[106.7847,-6.1604]', '[106.7847,-6.1604]', '[106.7847,-6.1604]', '[106.7847,-6.1604]']\n",
      "['https://www.lamudi.co.id/jual-rumah-t21-340-di-tamansari-persada-bogor-hala-166419717623.html', 'https://www.lamudi.co.id/spesial-8jt-all-in-tanpa-bi-checking-100-approve-b-167729812721.html', 'https://www.lamudi.co.id/dijual-rumah-mungil-siap-huni-di-tanah-sereal-jakarta-barat.html', 'https://www.lamudi.co.id/rumah-murah-strategis-dekat-toll-cimanggu-kota-bog-166064504376.html', 'https://www.lamudi.co.id/rumah-tanah-sereal-tambora-bangunan-5-5-lantai-dan-bebas-banjir.html', 'https://www.lamudi.co.id/jual-rumah-prime-area-tanah-sereal-167523315161.html', 'https://www.lamudi.co.id/rumah-murah-2-lantai-di-perumahan-nirwana-estate-166064082619.html', 'https://www.lamudi.co.id/rumah-dp-0-dekat-stasiun-cilebut-dan-tol-kayumanis-168031911036.html', 'https://www.lamudi.co.id/jual-rumah-di-bukit-cimanggu-city-bogor-168113074230.html', 'https://www.lamudi.co.id/rumah-dekat-stasiun-cilebut-dan-tol-kayumanis-167850835542.html', 'https://www.lamudi.co.id/rumah-siap-huni-harga-terjangkau-di-lokasi-dekat-e-167964279310.html', 'https://www.lamudi.co.id/hunian-2-lantai-strategis-garansi-100-approve-bank-167703616123.html', 'https://www.lamudi.co.id/rumah-2-lantai-lokasi-strategis-dp0-8jt-all-in-100-167695681410.html', 'https://www.lamudi.co.id/murah-dkt-tol-duta-kencana-bogor-167532546377.html', 'https://www.lamudi.co.id/rumah-murah-di-kota-bogor-perumahan-bukit-cimanggu-city.html', 'https://www.lamudi.co.id/dijual-rumah-siap-huni-lokasi-dekat-marcopolo-wate-167723289561.html', 'https://www.lamudi.co.id/rumah-dua-kamar-cash-bertahap-di-lokasi-dekat-stas-168040457560.html', 'https://www.lamudi.co.id/rumah-dijual-terjangkau-hanya-298jt-promo-annivars-166540621184.html', 'https://www.lamudi.co.id/kost-dengan-return-tinggi-di-jalan-gajah-mada-jakarta-barat.html', 'https://www.lamudi.co.id/rumah-dua-lantai-kpr-tanpa-dp-free-semua-biaya-166193135318.html', 'https://www.lamudi.co.id/ana-rumah-3-75-lantai-uk-5-5x15m-jalan-mobil-di-ta-166030157889.html', 'https://www.lamudi.co.id/rumah-4-5-lantai-layak-huni-di-jalan-keamanan-gaja-166614068248.html', 'https://www.lamudi.co.id/rumah-kpr-paling-terjangkau-di-kota-bogor-166193131692.html', 'https://www.lamudi.co.id/rumah-siap-huni-pinggir-jalan-tanah-sereal.html', 'https://www.lamudi.co.id/rumah-siap-huni-11x17-192m-type-4kt-di-tanah-sereal-jakarta-barat-2.html', 'https://www.lamudi.co.id/rumah-1-5-lantai-dekat-toll-kayumanis-cilebut-yasm-166185355339.html', 'https://www.lamudi.co.id/di-jual-rumah-jl-tanah-sereal-jak-bar-166727711868.html', 'https://www.lamudi.co.id/rumah-di-bukit-cimanggu-city-cluster-llanos.html', 'https://www.lamudi.co.id/rumah-2-5-lantai-di-taman-cimanggu-dekat-toll-yasm-166185354816.html', 'https://www.lamudi.co.id/rumah-siap-huni-11x17-192m-type-4kt-di-tanah-sereal-jakarta-barat-16.html', 'https://www.lamudi.co.id/rumah-kost2an-masih-akti-menghasilkan-passive-income-daerah-jakarta-barat.html', 'https://www.lamudi.co.id/rumah-siap-huni-11x17-192m-type-4kt-di-tanah-sereal-jakarta-barat-13.html', 'https://www.lamudi.co.id/8-juta-langsung-akad-tanpa-dp-tanpa-biaya-apapun-167712012715.html', 'https://www.lamudi.co.id/rumah-murah-strategis-dekat-toll-cimanggu-kota-bog-168174861856.html', 'https://www.lamudi.co.id/dijual-rumah-murah-280-168136194573.html', 'https://www.lamudi.co.id/kost-dengan-return-tinggi-di-jalan-gajah-mada-jaka-168172911572.html', 'https://www.lamudi.co.id/rumah-siap-huni-11x17-192m-type-4kt-di-tanah-serea-168188032614.html', 'https://www.lamudi.co.id/beli-rumah-gratis-furniture-hanya-di-prima-cimangg-167767075843.html', 'https://www.lamudi.co.id/promo-bulan-ini-ready-rumah-2-lantai-cukup-dp-50ju-167767075897.html', 'https://www.lamudi.co.id/rumah-dua-kamar-cash-bertahap-di-lokasi-dekat-stas-168040457560.html', 'https://www.lamudi.co.id/rumah-4-5-lantai-layak-huni-di-jalan-keamanan-gaja-166614068248.html', 'https://www.lamudi.co.id/sertifikat-hak-milik-rumah-2-lantai-kota-bogor-sia-167696626955.html', 'https://www.lamudi.co.id/siap-huni-rumah-2-lantai-bi-checking-bisa-kami-ban-16770567779.html', 'https://www.lamudi.co.id/langsung-akad-cukup-reservasi-8juta-allin-167705677949.html', 'https://www.lamudi.co.id/booking-sekarang-dp-50-juta-kol-5-kami-bantu-167705679639.html', 'https://www.lamudi.co.id/rumah-suda-shm-dan-free-biaya-apapun-dp-0-lho-167711891450.html', 'https://www.lamudi.co.id/hanya-1-unit-rumah-2-lantai-siap-huni-kol5-approve-167711892033.html', 'https://www.lamudi.co.id/free-biaya-apapun-dan-sudah-shm-tanpa-dp-hanya-di-167711892045.html', 'https://www.lamudi.co.id/shm-rumah-siap-huni-cicilan-mulai-7jutaan-167711892744.html', 'https://www.lamudi.co.id/rumah-dengan-desain-futuristik-siap-huni-booking-s-167711893358.html', 'https://www.lamudi.co.id/rumah-2-lantai-lokasi-strategis-kota-bogor-tanpa-d-167714448660.html', 'https://www.lamudi.co.id/shm-rumah-2-lantai-siap-huni-bebas-bi-checking-fre-167714449188.html', 'https://www.lamudi.co.id/di-jual-rumah-2-lantai-sudah-shm-free-biaya-biaya-167714449746.html', 'https://www.lamudi.co.id/raih-harga-promo-rumah-2-lantai-di-prima-cimanggu-167714450432.html', 'https://www.lamudi.co.id/8juta-allin-dp-50-juta-sudah-bisa-memiliki-rumah-2-167720829411.html', 'https://www.lamudi.co.id/pasti-lolos-akad-kpr-beli-rumah-2-lantai-siap-huni-167720831052.html', 'https://www.lamudi.co.id/flash-sale-hunian-2-lantai-kota-bogor-akses-lokasi-167758704725.html', 'https://www.lamudi.co.id/terbatas-hunian-2-lantai-kota-bogor-tanpa-bi-check-167758705592.html', 'https://www.lamudi.co.id/one-gate-system-hunian-2-lantai-bebas-bi-checking-167758705982.html', 'https://www.lamudi.co.id/jual-cepat-hunian-terlaris-tahun-ini-sisa-satu-167767073819.html', 'https://www.lamudi.co.id/jual-rumah-hook-2-lantai-jelambar-jakarta-barat-168037472563.html', 'https://www.lamudi.co.id/jual-rumah-hoek-jelambar-jaya-siap-huni-jelambar-jakarta-barat.html', 'https://www.lamudi.co.id/rmh-siap-huni.html', 'https://www.lamudi.co.id/jual-rumah-di-jelambar-2-rumah-tembus-jadi-satu.html', 'https://www.lamudi.co.id/deniz-rumah-bagus-uk-9x15-hadap-selatan-di-komplek-kavlin-porli.html', 'https://www.lamudi.co.id/dijual-rumah-dua-lantai-siap-huni-di-jelambar-jakarta-barat.html', 'https://www.lamudi.co.id/rumah-baru-4x21m-di-jelambar.html', 'https://www.lamudi.co.id/rumah-jelambar-uk-7-35-x-24m-2lantai-lokasi-bagus-bebas-banjir.html', 'https://www.lamudi.co.id/rumah-siap-huni-jelambar-2-lantai-2.html', 'https://www.lamudi.co.id/chandra-rumah-murah-4-lantai-uk-5-2x15-5m-jalan-le-165848480840.html', 'https://www.lamudi.co.id/rukan-jelambar.html', 'https://www.lamudi.co.id/ana-rumah-plong-uk-13x18-5m-cocok-usaha-komplek-ka-165991019446.html', 'https://www.lamudi.co.id/dhyana-rumah-murah-jelambar-uk-5-2x15-5m-jalan-2-mobil-1.html', 'https://www.lamudi.co.id/rumah-lama-hitung-tanah-di-jelambar-jakarta-barat-kode-rmrg778.html', 'https://www.lamudi.co.id/rumah-2-lantai-lebar-9meter-di-jelambar-jakarat-barat-kode-rmrg1120.html', 'https://www.lamudi.co.id/dhyana-rumah-jelambar-uk-3-8x7-6m-dalam-gang-lokasi-di-jelambar.html', 'https://www.lamudi.co.id/dijual-rumah-di-jl-jelambar-madya-raya-kavling-polri-jakbar.html', 'https://www.lamudi.co.id/rumah-lebar-8-meter-3-lantai-di-jelambar-jakarta-b-165960544155.html', 'https://www.lamudi.co.id/rumah-murah-bagus-uk-4-25x14m2-semi-furnished-di-jelambar.html', 'https://www.lamudi.co.id/rumah-furnished-uk-5x19-5m2-lokasi-bagus-di-kompleks-kavling-porli-jelambar-1.html', 'https://www.lamudi.co.id/dijual-rumah-murah-di-jelambar-selatan-luas-10x20-lokasi-strategis.html', 'https://www.lamudi.co.id/jual-cepat-rumah-empang-bahagia-jelambar.html', 'https://www.lamudi.co.id/rumah-bagus-full-furnished-di-jelambar-uk-5x17m2.html', 'https://www.lamudi.co.id/rumah-murah-2-lantai-di-jelambar-jakarta-barat-kode-rmrg1249.html', 'https://www.lamudi.co.id/ana-rumah-hoek-uk-8-5x16m2-3-5lt-furnished-di-dutamas-jelambar.html', 'https://www.lamudi.co.id/rumah-murah-di-jelambar-jakarta-barat-kode-rmrg1121.html', 'https://www.lamudi.co.id/rumah-lama-hitung-tanah-2-lantai-di-wijaya-kusuma-165960535084.html', 'https://www.lamudi.co.id/chandra-rumah-baru-3-lantai-uk-4x12m-harga-murah-d-165848481015.html', 'https://www.lamudi.co.id/ana-rumah-baru-renov-uk-5x11m-di-jelambar-16786416443.html', 'https://www.lamudi.co.id/d-jual-rumah-d-jelambar-jak-bar-16781478464.html', 'https://www.lamudi.co.id/dijual-rumah-cantik-jelambar-jaya-167869660057.html', 'https://www.lamudi.co.id/ana-rumah-uk-2-6x5-5m-dalam-gang-motor-167894660017.html', 'https://www.lamudi.co.id/rumah-tua-jalan-2-mobil-area-jelambar-167862414177.html', 'https://www.lamudi.co.id/jual-kosan-jelambar-utama-167843668625.html', 'https://www.lamudi.co.id/ana-kos-kosan-uk-6-5x15m-di-jelambar-167963207528.html', 'https://www.lamudi.co.id/dijual-rumah-jelambar-dekat-duta-mas-2-lantai-167999045724.html', 'https://www.lamudi.co.id/jual-rumah-di-jln-hadiah-jelambar-grogol-jakbar.html', 'https://www.lamudi.co.id/dhyana-rumah-baru-uk-4-2x14m-di-jelambar.html', 'https://www.lamudi.co.id/rumah-baru-di-jelambar-uk-6x22-167601221983.html', 'https://www.lamudi.co.id/ana-rumah-uk-7x20m-lokasi-tenang-di-komplek-taman-165968533713.html']\n",
      "['https://www.lamudi.co.id/jakarta/jakarta-barat/tanah-sereal/house/buy/', 'https://www.lamudi.co.id/jakarta/jakarta-barat/tanah-sereal/house/buy/', 'https://www.lamudi.co.id/jakarta/jakarta-barat/tanah-sereal/house/buy/', 'https://www.lamudi.co.id/jakarta/jakarta-barat/tanah-sereal/house/buy/', 'https://www.lamudi.co.id/jakarta/jakarta-barat/tanah-sereal/house/buy/', 'https://www.lamudi.co.id/jakarta/jakarta-barat/tanah-sereal/house/buy/', 'https://www.lamudi.co.id/jakarta/jakarta-barat/tanah-sereal/house/buy/', 'https://www.lamudi.co.id/jakarta/jakarta-barat/tanah-sereal/house/buy/', 'https://www.lamudi.co.id/jakarta/jakarta-barat/tanah-sereal/house/buy/', 'https://www.lamudi.co.id/jakarta/jakarta-barat/tanah-sereal/house/buy/', 'https://www.lamudi.co.id/jakarta/jakarta-barat/tanah-sereal/house/buy/', 'https://www.lamudi.co.id/jakarta/jakarta-barat/tanah-sereal/house/buy/', 'https://www.lamudi.co.id/jakarta/jakarta-barat/tanah-sereal/house/buy/', 'https://www.lamudi.co.id/jakarta/jakarta-barat/tanah-sereal/house/buy/', 'https://www.lamudi.co.id/jakarta/jakarta-barat/tanah-sereal/house/buy/', 'https://www.lamudi.co.id/jakarta/jakarta-barat/tanah-sereal/house/buy/', 'https://www.lamudi.co.id/jakarta/jakarta-barat/tanah-sereal/house/buy/', 'https://www.lamudi.co.id/jakarta/jakarta-barat/tanah-sereal/house/buy/', 'https://www.lamudi.co.id/jakarta/jakarta-barat/tanah-sereal/house/buy/', 'https://www.lamudi.co.id/jakarta/jakarta-barat/tanah-sereal/house/buy/', 'https://www.lamudi.co.id/jakarta/jakarta-barat/tanah-sereal/house/buy/', 'https://www.lamudi.co.id/jakarta/jakarta-barat/tanah-sereal/house/buy/', 'https://www.lamudi.co.id/jakarta/jakarta-barat/tanah-sereal/house/buy/', 'https://www.lamudi.co.id/jakarta/jakarta-barat/tanah-sereal/house/buy/', 'https://www.lamudi.co.id/jakarta/jakarta-barat/tanah-sereal/house/buy/', 'https://www.lamudi.co.id/jakarta/jakarta-barat/tanah-sereal/house/buy/', 'https://www.lamudi.co.id/jakarta/jakarta-barat/tanah-sereal/house/buy/', 'https://www.lamudi.co.id/jakarta/jakarta-barat/tanah-sereal/house/buy/', 'https://www.lamudi.co.id/jakarta/jakarta-barat/tanah-sereal/house/buy/', 'https://www.lamudi.co.id/jakarta/jakarta-barat/tanah-sereal/house/buy/', 'https://www.lamudi.co.id/jakarta/jakarta-barat/tanah-sereal/house/buy/', 'https://www.lamudi.co.id/jakarta/jakarta-barat/tanah-sereal/house/buy/', 'https://www.lamudi.co.id/jakarta/jakarta-barat/tanah-sereal/house/buy/', 'https://www.lamudi.co.id/jakarta/jakarta-barat/tanah-sereal/house/buy/', 'https://www.lamudi.co.id/jakarta/jakarta-barat/tanah-sereal/house/buy/', 'https://www.lamudi.co.id/jakarta/jakarta-barat/tanah-sereal/house/buy/', 'https://www.lamudi.co.id/jakarta/jakarta-barat/tanah-sereal/house/buy/', 'https://www.lamudi.co.id/jakarta/jakarta-barat/tanah-sereal/house/buy/', 'https://www.lamudi.co.id/jakarta/jakarta-barat/tanah-sereal/house/buy/', 'https://www.lamudi.co.id/jakarta/jakarta-barat/tanah-sereal/house/buy/', 'https://www.lamudi.co.id/jakarta/jakarta-barat/tanah-sereal/house/buy/', 'https://www.lamudi.co.id/jakarta/jakarta-barat/tanah-sereal/house/buy/', 'https://www.lamudi.co.id/jakarta/jakarta-barat/tanah-sereal/house/buy/', 'https://www.lamudi.co.id/jakarta/jakarta-barat/tanah-sereal/house/buy/', 'https://www.lamudi.co.id/jakarta/jakarta-barat/tanah-sereal/house/buy/', 'https://www.lamudi.co.id/jakarta/jakarta-barat/tanah-sereal/house/buy/', 'https://www.lamudi.co.id/jakarta/jakarta-barat/tanah-sereal/house/buy/', 'https://www.lamudi.co.id/jakarta/jakarta-barat/tanah-sereal/house/buy/', 'https://www.lamudi.co.id/jakarta/jakarta-barat/tanah-sereal/house/buy/', 'https://www.lamudi.co.id/jakarta/jakarta-barat/tanah-sereal/house/buy/', 'https://www.lamudi.co.id/jakarta/jakarta-barat/tanah-sereal/house/buy/', 'https://www.lamudi.co.id/jakarta/jakarta-barat/tanah-sereal/house/buy/', 'https://www.lamudi.co.id/jakarta/jakarta-barat/tanah-sereal/house/buy/', 'https://www.lamudi.co.id/jakarta/jakarta-barat/tanah-sereal/house/buy/', 'https://www.lamudi.co.id/jakarta/jakarta-barat/tanah-sereal/house/buy/', 'https://www.lamudi.co.id/jakarta/jakarta-barat/tanah-sereal/house/buy/', 'https://www.lamudi.co.id/jakarta/jakarta-barat/tanah-sereal/house/buy/', 'https://www.lamudi.co.id/jakarta/jakarta-barat/tanah-sereal/house/buy/', 'https://www.lamudi.co.id/jakarta/jakarta-barat/tanah-sereal/house/buy/', 'https://www.lamudi.co.id/jakarta/jakarta-barat/tanah-sereal/house/buy/', 'https://www.lamudi.co.id/jakarta/jakarta-barat/jelambar/house/buy/', 'https://www.lamudi.co.id/jakarta/jakarta-barat/jelambar/house/buy/', 'https://www.lamudi.co.id/jakarta/jakarta-barat/jelambar/house/buy/', 'https://www.lamudi.co.id/jakarta/jakarta-barat/jelambar/house/buy/', 'https://www.lamudi.co.id/jakarta/jakarta-barat/jelambar/house/buy/', 'https://www.lamudi.co.id/jakarta/jakarta-barat/jelambar/house/buy/', 'https://www.lamudi.co.id/jakarta/jakarta-barat/jelambar/house/buy/', 'https://www.lamudi.co.id/jakarta/jakarta-barat/jelambar/house/buy/', 'https://www.lamudi.co.id/jakarta/jakarta-barat/jelambar/house/buy/', 'https://www.lamudi.co.id/jakarta/jakarta-barat/jelambar/house/buy/', 'https://www.lamudi.co.id/jakarta/jakarta-barat/jelambar/house/buy/', 'https://www.lamudi.co.id/jakarta/jakarta-barat/jelambar/house/buy/', 'https://www.lamudi.co.id/jakarta/jakarta-barat/jelambar/house/buy/', 'https://www.lamudi.co.id/jakarta/jakarta-barat/jelambar/house/buy/', 'https://www.lamudi.co.id/jakarta/jakarta-barat/jelambar/house/buy/', 'https://www.lamudi.co.id/jakarta/jakarta-barat/jelambar/house/buy/', 'https://www.lamudi.co.id/jakarta/jakarta-barat/jelambar/house/buy/', 'https://www.lamudi.co.id/jakarta/jakarta-barat/jelambar/house/buy/', 'https://www.lamudi.co.id/jakarta/jakarta-barat/jelambar/house/buy/', 'https://www.lamudi.co.id/jakarta/jakarta-barat/jelambar/house/buy/', 'https://www.lamudi.co.id/jakarta/jakarta-barat/jelambar/house/buy/', 'https://www.lamudi.co.id/jakarta/jakarta-barat/jelambar/house/buy/', 'https://www.lamudi.co.id/jakarta/jakarta-barat/jelambar/house/buy/', 'https://www.lamudi.co.id/jakarta/jakarta-barat/jelambar/house/buy/', 'https://www.lamudi.co.id/jakarta/jakarta-barat/jelambar/house/buy/', 'https://www.lamudi.co.id/jakarta/jakarta-barat/jelambar/house/buy/', 'https://www.lamudi.co.id/jakarta/jakarta-barat/jelambar/house/buy/', 'https://www.lamudi.co.id/jakarta/jakarta-barat/jelambar/house/buy/', 'https://www.lamudi.co.id/jakarta/jakarta-barat/jelambar/house/buy/', 'https://www.lamudi.co.id/jakarta/jakarta-barat/jelambar/house/buy/', 'https://www.lamudi.co.id/jakarta/jakarta-barat/jelambar/house/buy/', 'https://www.lamudi.co.id/jakarta/jakarta-barat/jelambar/house/buy/', 'https://www.lamudi.co.id/jakarta/jakarta-barat/jelambar/house/buy/', 'https://www.lamudi.co.id/jakarta/jakarta-barat/jelambar/house/buy/', 'https://www.lamudi.co.id/jakarta/jakarta-barat/jelambar/house/buy/', 'https://www.lamudi.co.id/jakarta/jakarta-barat/jelambar/house/buy/', 'https://www.lamudi.co.id/jakarta/jakarta-barat/jelambar/house/buy/', 'https://www.lamudi.co.id/jakarta/jakarta-barat/jelambar/house/buy/', 'https://www.lamudi.co.id/jakarta/jakarta-barat/jelambar/house/buy/', 'https://www.lamudi.co.id/jakarta/jakarta-barat/jelambar/house/buy/']\n"
     ]
    }
   ],
   "source": [
    "print(data_price_s[:100])\n",
    "print(data_category_s[:100])\n",
    "print(data_subcategories_s[:100])\n",
    "print(data_bedrooms_s[:100])\n",
    "print(data_bathrooms_s[:100])\n",
    "print(data_building_size_s[:100])\n",
    "print(data_land_size_s[:100])\n",
    "print(data_furnished_s[:100])\n",
    "print(data_sku_s[:100])\n",
    "print(data_geo_point_s[:100])\n",
    "print(page_link_s[:100])\n",
    "print(parent_link_s[:100])"
   ]
  },
  {
   "attachments": {},
   "cell_type": "markdown",
   "metadata": {},
   "source": [
    "Looks good to me!"
   ]
  },
  {
   "cell_type": "markdown",
   "metadata": {},
   "source": []
  }
 ],
 "metadata": {
  "kernelspec": {
   "display_name": "house_price_env",
   "language": "python",
   "name": "python3"
  },
  "language_info": {
   "codemirror_mode": {
    "name": "ipython",
    "version": 3
   },
   "file_extension": ".py",
   "mimetype": "text/x-python",
   "name": "python",
   "nbconvert_exporter": "python",
   "pygments_lexer": "ipython3",
   "version": "3.9.13"
  },
  "orig_nbformat": 4
 },
 "nbformat": 4,
 "nbformat_minor": 2
}
