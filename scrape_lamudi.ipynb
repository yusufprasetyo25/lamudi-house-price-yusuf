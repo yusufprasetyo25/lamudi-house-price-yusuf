{
 "cells": [
  {
   "cell_type": "code",
   "execution_count": 2,
   "metadata": {},
   "outputs": [
    {
     "name": "stdout",
     "output_type": "stream",
     "text": [
      "Requirement already satisfied: requests in ./lib/python3.9/site-packages (2.28.2)\n",
      "Requirement already satisfied: charset-normalizer<4,>=2 in ./lib/python3.9/site-packages (from requests) (3.1.0)\n",
      "Requirement already satisfied: idna<4,>=2.5 in ./lib/python3.9/site-packages (from requests) (3.4)\n",
      "Requirement already satisfied: urllib3<1.27,>=1.21.1 in ./lib/python3.9/site-packages (from requests) (1.26.15)\n",
      "Requirement already satisfied: certifi>=2017.4.17 in ./lib/python3.9/site-packages (from requests) (2022.12.7)\n",
      "Requirement already satisfied: numpy in ./lib/python3.9/site-packages (1.24.2)\n",
      "Requirement already satisfied: pandas in ./lib/python3.9/site-packages (2.0.0)\n",
      "Requirement already satisfied: python-dateutil>=2.8.2 in ./lib/python3.9/site-packages (from pandas) (2.8.2)\n",
      "Requirement already satisfied: pytz>=2020.1 in ./lib/python3.9/site-packages (from pandas) (2023.3)\n",
      "Requirement already satisfied: tzdata>=2022.1 in ./lib/python3.9/site-packages (from pandas) (2023.3)\n",
      "Requirement already satisfied: numpy>=1.20.3 in ./lib/python3.9/site-packages (from pandas) (1.24.2)\n",
      "Requirement already satisfied: six>=1.5 in ./lib/python3.9/site-packages (from python-dateutil>=2.8.2->pandas) (1.16.0)\n"
     ]
    }
   ],
   "source": [
    "!pip install requests\n",
    "!pip install numpy\n",
    "!pip install pandas"
   ]
  },
  {
   "cell_type": "code",
   "execution_count": 1,
   "metadata": {},
   "outputs": [],
   "source": [
    "import re\n",
    "import requests\n",
    "import numpy as np\n",
    "import pandas as pd\n",
    "import time"
   ]
  },
  {
   "cell_type": "code",
   "execution_count": 7,
   "metadata": {},
   "outputs": [
    {
     "name": "stdout",
     "output_type": "stream",
     "text": [
      "<!DOCTYPE html>\n",
      "<html>\n",
      "    <head>\n",
      "        <noscript>\n",
      "            <title>Pardon Our Interruption</title>\n",
      "        </noscript>\n",
      "\n",
      "        <meta name=\"viewport\" content=\"width=1000\">\n",
      "        <meta name=\"robots\" content=\"noindex, nofollow\">\n",
      "        <meta http-equiv=\"cache-control\" content=\"no-cache, no-store, must-revalidate\">\n",
      "        <meta http-equiv=\"pragma\" content=\"no-cache\">\n",
      "        <meta http-equiv=\"expires\" content=\"0\">\n",
      "\n",
      "        <style>\n",
      "            .container { max-width: 800px; margin: auto; font-family: 'Helvetica Neue',Helvetica,Arial,sans-serif; color: #7a838c; }\n",
      "            h1 { color: #2a2d30; font-weight: 500; }\n",
      "            li { margin: 0 0 10px; }\n",
      "            a { color: #428bca; }\n",
      "            a:hover, a:focus { color: #2a6496; }\n",
      "        </style>\n",
      "\n",
      "        <script>\n",
      "            function showBlockPage() {\n",
      "                document.title = \"Pardon Our Interruption\"\n",
      "                document.getElementsByClassName(\"container\")[0].style.display = \"block\";\n",
      "            }\n",
      "            setTimeout(showBlockPage, 10000);\n",
      "        </script>\n",
      "        <script type=\"text/javascript\" src=\"/6657193977244c13\" async defer></script>\n",
      "\n",
      "        <script>window.addEventListener('load', showBlockPage)</script>\n",
      "    </head>\n",
      "    <body>\n",
      "        \n",
      "\n",
      "        <div class=\"container\">\n",
      "            <script>document.getElementsByClassName(\"container\")[0].style.display = \"none\";</script>\n",
      "\n",
      "            <h1>Pardon Our Interruption</h1>\n",
      "            <p>As you were browsing something about your browser made us think you were a bot. There are a few reasons this might happen:</p>\n",
      "            <ul>\n",
      "                <noscript><li>You've disabled JavaScript in your web browser.</li></noscript>\n",
      "                <li>You're a power user moving through this website with super-human speed.</li>\n",
      "                <li>You've disabled cookies in your web browser.</li>\n",
      "                <li>A third-party browser plugin, such as Ghostery or NoScript, is preventing JavaScript from running. Additional information is available in this <a title='Third party browser plugins that block javascript' href='http://ds.tl/help-third-party-plugins' target='_blank'>support article</a>.</li>\n",
      "            </ul>\n",
      "\n",
      "            <p id=\"extraUnblock\"><small style=\"font-size: 8pt\">IP: 180.243.8.202, Request ID: MbTq3ft6hEZ7Dxrxqk1PgloYDplirGJS1EayCD5k2Emv3WMy3y8u8w==</small></p>`\n",
      "        </div>\n",
      "    </body>\n",
      "</html>\n",
      "\n",
      "\n"
     ]
    }
   ],
   "source": [
    "url = 'https://www.lamudi.co.id/jakarta/house/buy/?page=1'\n",
    "r = requests.get(url)\n",
    "html = r.text\n",
    "for line in html.split('\\n'):\n",
    "    print(line)"
   ]
  },
  {
   "attachments": {},
   "cell_type": "markdown",
   "metadata": {},
   "source": [
    "Apparently there is a validation when trying to scrape. However, when I look to the website, there is no explicit statement about scraping prohibition. Therefore, we are going to use another route. That is, Selenium."
   ]
  },
  {
   "cell_type": "code",
   "execution_count": 11,
   "metadata": {},
   "outputs": [
    {
     "name": "stdout",
     "output_type": "stream",
     "text": [
      "Requirement already satisfied: selenium in ./lib/python3.9/site-packages (4.8.3)\n",
      "Requirement already satisfied: urllib3[socks]~=1.26 in ./lib/python3.9/site-packages (from selenium) (1.26.15)\n",
      "Requirement already satisfied: trio~=0.17 in ./lib/python3.9/site-packages (from selenium) (0.22.0)\n",
      "Requirement already satisfied: trio-websocket~=0.9 in ./lib/python3.9/site-packages (from selenium) (0.10.2)\n",
      "Requirement already satisfied: certifi>=2021.10.8 in ./lib/python3.9/site-packages (from selenium) (2022.12.7)\n",
      "Requirement already satisfied: attrs>=19.2.0 in ./lib/python3.9/site-packages (from trio~=0.17->selenium) (23.1.0)\n",
      "Requirement already satisfied: sortedcontainers in ./lib/python3.9/site-packages (from trio~=0.17->selenium) (2.4.0)\n",
      "Requirement already satisfied: async-generator>=1.9 in ./lib/python3.9/site-packages (from trio~=0.17->selenium) (1.10)\n",
      "Requirement already satisfied: idna in ./lib/python3.9/site-packages (from trio~=0.17->selenium) (3.4)\n",
      "Requirement already satisfied: outcome in ./lib/python3.9/site-packages (from trio~=0.17->selenium) (1.2.0)\n",
      "Requirement already satisfied: sniffio in ./lib/python3.9/site-packages (from trio~=0.17->selenium) (1.3.0)\n",
      "Requirement already satisfied: exceptiongroup>=1.0.0rc9 in ./lib/python3.9/site-packages (from trio~=0.17->selenium) (1.1.1)\n",
      "Requirement already satisfied: wsproto>=0.14 in ./lib/python3.9/site-packages (from trio-websocket~=0.9->selenium) (1.2.0)\n",
      "Requirement already satisfied: PySocks!=1.5.7,<2.0,>=1.5.6 in ./lib/python3.9/site-packages (from urllib3[socks]~=1.26->selenium) (1.7.1)\n",
      "Requirement already satisfied: h11<1,>=0.9.0 in ./lib/python3.9/site-packages (from wsproto>=0.14->trio-websocket~=0.9->selenium) (0.14.0)\n",
      "Collecting webdriver_manager\n",
      "  Downloading webdriver_manager-3.8.6-py2.py3-none-any.whl (27 kB)\n",
      "Requirement already satisfied: requests in ./lib/python3.9/site-packages (from webdriver_manager) (2.28.2)\n",
      "Collecting python-dotenv (from webdriver_manager)\n",
      "  Downloading python_dotenv-1.0.0-py3-none-any.whl (19 kB)\n",
      "Requirement already satisfied: tqdm in ./lib/python3.9/site-packages (from webdriver_manager) (4.65.0)\n",
      "Requirement already satisfied: packaging in ./lib/python3.9/site-packages (from webdriver_manager) (23.1)\n",
      "Requirement already satisfied: charset-normalizer<4,>=2 in ./lib/python3.9/site-packages (from requests->webdriver_manager) (3.1.0)\n",
      "Requirement already satisfied: idna<4,>=2.5 in ./lib/python3.9/site-packages (from requests->webdriver_manager) (3.4)\n",
      "Requirement already satisfied: urllib3<1.27,>=1.21.1 in ./lib/python3.9/site-packages (from requests->webdriver_manager) (1.26.15)\n",
      "Requirement already satisfied: certifi>=2017.4.17 in ./lib/python3.9/site-packages (from requests->webdriver_manager) (2022.12.7)\n",
      "Installing collected packages: python-dotenv, webdriver_manager\n",
      "Successfully installed python-dotenv-1.0.0 webdriver_manager-3.8.6\n"
     ]
    }
   ],
   "source": [
    "!pip install selenium\n",
    "!pip install webdriver_manager"
   ]
  },
  {
   "cell_type": "code",
   "execution_count": 2,
   "metadata": {},
   "outputs": [],
   "source": [
    "from selenium import webdriver\n",
    "from selenium.webdriver.chrome.service import Service\n",
    "from webdriver_manager.chrome import ChromeDriverManager\n",
    "from selenium.webdriver.common.by import By"
   ]
  },
  {
   "cell_type": "code",
   "execution_count": 3,
   "metadata": {},
   "outputs": [
    {
     "name": "stderr",
     "output_type": "stream",
     "text": [
      "[WDM] - Downloading: 100%|██████████| 6.75M/6.75M [00:02<00:00, 2.57MB/s]\n"
     ]
    },
    {
     "ename": "KeyboardInterrupt",
     "evalue": "",
     "output_type": "error",
     "traceback": [
      "\u001b[0;31m---------------------------------------------------------------------------\u001b[0m",
      "\u001b[0;31mKeyboardInterrupt\u001b[0m                         Traceback (most recent call last)",
      "Cell \u001b[0;32mIn[3], line 44\u001b[0m\n\u001b[1;32m     42\u001b[0m     \u001b[39mif\u001b[39;00m page_end \u001b[39m>\u001b[39m page_iter:\n\u001b[1;32m     43\u001b[0m         click_expand \u001b[39m=\u001b[39m driver\u001b[39m.\u001b[39mfind_element(By\u001b[39m.\u001b[39mCSS_SELECTOR, \u001b[39m'\u001b[39m\u001b[39m.next a[data-next-page]\u001b[39m\u001b[39m'\u001b[39m)\u001b[39m.\u001b[39mclick()\n\u001b[0;32m---> 44\u001b[0m         time\u001b[39m.\u001b[39;49msleep(\u001b[39m2.811\u001b[39;49m \u001b[39m+\u001b[39;49m np\u001b[39m.\u001b[39;49mrandom\u001b[39m.\u001b[39;49mnormal(loc\u001b[39m=\u001b[39;49m\u001b[39m0.0\u001b[39;49m,scale\u001b[39m=\u001b[39;49m\u001b[39m0.627\u001b[39;49m)) \u001b[39m# delay\u001b[39;00m\n\u001b[1;32m     45\u001b[0m driver\u001b[39m.\u001b[39mquit()\n",
      "\u001b[0;31mKeyboardInterrupt\u001b[0m: "
     ]
    }
   ],
   "source": [
    "links = []\n",
    "data_price_s = []\n",
    "data_category_s = []\n",
    "data_subcategories_s = []\n",
    "data_bedrooms_s = []\n",
    "data_bathrooms_s = []\n",
    "data_building_size_s = []\n",
    "data_land_size_s = []\n",
    "data_furnished_s = []\n",
    "data_sku_s = []\n",
    "data_geo_point_s = []\n",
    "page_link_s = []\n",
    "driver = webdriver.Chrome(service=Service(ChromeDriverManager().install()))\n",
    "driver.get(\"https://www.lamudi.co.id/jakarta/house/buy/\")\n",
    "click_expand = driver.find_element(By.XPATH, '//*[@id=\"js-crosslinkTopFilter\"]/a').click()\n",
    "sublinks = driver.find_elements(By.XPATH, '//*[@id=\"js-crosslinkTopFilter\"]/div/div/div/a')\n",
    "for tag in sublinks:\n",
    "    links.append(tag.get_attribute('href'))\n",
    "driver.quit()\n",
    "for link in links[:3]:\n",
    "    driver = webdriver.Chrome(service=Service(ChromeDriverManager().install()))\n",
    "    driver.get(link)\n",
    "    page_end = 1\n",
    "    page_iter = 1\n",
    "    while page_iter <= page_end:\n",
    "        info = driver.find_elements(By.CSS_SELECTOR, \".ListingCell-AllInfo.ListingUnit\")\n",
    "        info_a = driver.find_elements(By.CSS_SELECTOR, \".js-listing-link\")\n",
    "        page_end = int(driver.find_element(By.CSS_SELECTOR, \"*[data-pagination-end]:last-child\").get_attribute('data-pagination-end'))\n",
    "        for i in range(len(info)):\n",
    "            data_price_s.append(info[i].get_attribute('data-price'))\n",
    "            data_category_s.append(info[i].get_attribute('data-category'))\n",
    "            data_subcategories_s.append(info[i].get_attribute('data-subcategories'))\n",
    "            data_bedrooms_s.append(info[i].get_attribute('data-bedrooms'))\n",
    "            data_bathrooms_s.append(info[i].get_attribute('data-bathrooms'))\n",
    "            data_building_size_s.append(info[i].get_attribute('data-building_size'))\n",
    "            data_land_size_s.append(info[i].get_attribute('data-land_size'))\n",
    "            data_furnished_s.append(info[i].get_attribute('data-furnished'))\n",
    "            data_sku_s.append(info[i].get_attribute('data-sku'))\n",
    "            data_geo_point_s.append(info[i].get_attribute('data-geo-point'))\n",
    "            page_link_s.append(info_a[i*2].get_attribute('href'))\n",
    "        page_iter += 1\n",
    "        if page_end >= page_iter:\n",
    "            click_expand = driver.find_element(By.CSS_SELECTOR, '.next a[data-next-page]').click()\n",
    "            time.sleep(2.811 + np.random.normal(loc=0.0,scale=0.627)) # delay\n",
    "    driver.quit()"
   ]
  },
  {
   "cell_type": "code",
   "execution_count": 4,
   "metadata": {},
   "outputs": [
    {
     "name": "stdout",
     "output_type": "stream",
     "text": [
      "['200000000', '1250000000', '691000000', '1200000000', '2100000000', '3900000000', '4500000000', '2489000000', '1950000000', '3000000000', '2200000000', '3000000000', '3800000000', '2200000000', '3000000000', '850000000', '1200000000', '2800000000', '4500000000', '3900000000', '1500000000', '2200000000', '3990000000', '2100000000', '3990000000', '2800000000', '2800000000', '1350000000', '900000000', '3000000000', '364990000', '544200000', '770000000', '770000000', '850000000', '4000000000', '5500000000', '7500000000', '10000000000', '425000000', '4800000000', '945000000', '5500000000', '11800000000', '7700000000', '4200000000', '4500000000', '440000000', '770000000', '4300000000', '42450000000', '3200000000', '4200000000', '770000000', '770000000', '770000000', '11800000000', '440000000', '3000000000', '4300000000', '1625000000', '70000000000', '1650000000', '1250000000', '2550000000', '1800000000', '1700000000', '4950000000', '4950000000', '1818980000', '2600000000', '1800000000', '4200000000', '1767480000', '2340372000', '4000000000', '1989000000', '1150000000', '3150000000', '2150000000', '4900000000', '435000000', '1650000000', '3500000000', '2200000000', '1200000000', '1100000000', '1850000000', '1275000000', '1100000000', '5200000000', '1350000000', '2100000000', '1300000000', '2500000000', '6700000000', '1300000000', '3000000000', '5500000000', '1975000000']\n",
      "['house', 'house', 'house', 'house', 'house', 'house', 'house', 'house', 'house', 'house', 'house', 'house', 'house', 'house', 'house', 'house', 'house', 'house', 'house', 'house', 'house', 'house', 'house', 'house', 'house', 'house', 'house', 'house', 'house', 'house', 'house', 'house', 'house', 'house', 'house', 'house', 'house', 'house', 'house', 'house', 'house', 'house', 'house', 'house', 'house', 'house', 'house', 'house', 'house', 'house', 'house', 'house', 'house', 'house', 'house', 'house', 'house', 'house', 'house', 'house', 'house', 'house', 'house', 'house', 'house', 'house', 'house', 'house', 'house', 'house', 'house', 'house', 'house', 'house', 'house', 'house', 'house', 'house', 'house', 'house', 'house', 'house', 'house', 'house', 'house', 'house', 'house', 'house', 'house', 'house', 'house', 'house', 'house', 'house', 'house', 'house', 'house', 'house', 'house', 'house']\n",
      "['[\"house\",\"single-family-house\"]', '[\"house\",\"single-family-house\"]', '[\"house\",\"single-family-house\"]', '[\"house\",\"single-family-house\"]', '[\"house\",\"single-family-house\"]', '[\"house\",\"single-family-house\"]', '[\"house\",\"single-family-house\"]', '[\"house\",\"single-family-house\"]', '[\"house\",\"single-family-house\"]', '[\"house\",\"single-family-house\"]', '[\"house\",\"single-family-house\"]', '[\"house\",\"single-family-house\"]', '[\"house\",\"single-family-house\"]', '[\"house\",\"single-family-house\"]', '[\"house\",\"single-family-house\"]', '[\"house\",\"single-family-house\"]', '[\"house\",\"single-family-house\"]', '[\"house\",\"single-family-house\"]', '[\"house\",\"single-family-house\"]', '[\"house\",\"single-family-house\"]', '[\"house\",\"single-family-house\"]', '[\"house\",\"single-family-house\"]', '[\"house\",\"single-family-house\"]', '[\"house\",\"single-family-house\"]', '[\"house\",\"single-family-house\"]', '[\"house\",\"single-family-house\"]', '[\"house\",\"single-family-house\"]', '[\"house\",\"single-family-house\"]', '[\"house\",\"single-family-house\"]', '[\"house\",\"single-family-house\"]', '[\"house\",\"single-family-house\"]', '[\"house\",\"townhouse\"]', '[\"house\",\"boarding-house\"]', '[\"house\",\"boarding-house\"]', '[\"house\",\"single-family-house\"]', '[\"house\",\"single-family-house\"]', '[\"house\",\"single-family-house\"]', '[\"house\",\"boarding-house\"]', '[\"house\",\"single-family-house\"]', '[\"house\",\"single-family-house\"]', '[\"house\",\"single-family-house\"]', '[\"house\",\"townhouse\"]', '[\"house\",\"single-family-house\"]', '[\"house\",\"single-family-house\"]', '[\"house\",\"townhouse\"]', '[\"house\",\"single-family-house\"]', '[\"house\",\"single-family-house\"]', '[\"house\",\"single-family-house\"]', '[\"house\",\"boarding-house\"]', '[\"house\",\"single-family-house\"]', '[\"house\",\"single-family-house\"]', '[\"house\",\"single-family-house\"]', '[\"house\",\"single-family-house\"]', '[\"house\",\"boarding-house\"]', '[\"house\",\"boarding-house\"]', '[\"house\",\"boarding-house\"]', '[\"house\",\"single-family-house\"]', '[\"house\",\"single-family-house\"]', '[\"house\",\"single-family-house\"]', '[\"house\",\"single-family-house\"]', '[\"house\",\"single-family-house\"]', '[\"house\",\"single-family-house\"]', '[\"house\",\"single-family-house\"]', '[\"house\",\"single-family-house\"]', '[\"house\",\"townhouse\"]', '[\"house\",\"townhouse\"]', '[\"house\",\"single-family-house\"]', '[\"house\",\"townhouse\"]', '[\"house\",\"single-family-house\"]', '[\"house\",\"townhouse\"]', '[\"house\",\"townhouse\"]', '[\"house\",\"townhouse\"]', '[\"house\",\"townhouse\"]', '[\"house\",\"townhouse\"]', '[\"house\",\"single-family-house\"]', '[\"house\",\"townhouse\"]', '[\"house\",\"single-family-house\"]', '[\"house\",\"single-family-house\"]', '[\"house\",\"townhouse\"]', '[\"house\",\"single-family-house\"]', '[\"house\",\"townhouse\"]', '[\"house\",\"single-family-house\"]', '[\"house\",\"single-family-house\"]', '[\"house\",\"single-family-house\"]', '[\"house\",\"single-family-house\"]', '[\"house\",\"single-family-house\"]', '[\"house\",\"single-family-house\"]', '[\"house\",\"townhouse\"]', '[\"house\",\"townhouse\"]', '[\"house\",\"single-family-house\"]', '[\"house\",\"single-family-house\"]', '[\"house\",\"townhouse\"]', '[\"house\",\"townhouse\"]', '[\"house\",\"single-family-house\"]', '[\"house\",\"townhouse\"]', '[\"house\",\"single-family-house\"]', '[\"house\",\"single-family-house\"]', '[\"house\",\"single-family-house\"]', '[\"house\",\"single-family-house\"]', '[\"house\",\"single-family-house\"]']\n",
      "['2', '3', '2', '3', '6', '5', '4', '5', '3', '3', '4', '3', '4', '4', '3', '2', '3', '4', '4', '5', '3', '4', '5', '6', '5', '4', '4', '3', '3', '4', '2', '2', '9', '9', '4', '7', '6', '20', '10', '2', '7', '9', '6', '10', '5', '3', '4', '2', '9', '8', '3', '8', '5', '9', '9', '9', '7', '2', '4', '8', '4', '10', '5', '2', '4', '3', '4', '4', '5', '3', '5', '4', '4', '3', '4', '5', '3', '4', '4', '3', '5', '2', '3', '3', '4', '3', '3', '4', '3', '3', '4', '3', '5', '3', '4', '4', '3', '4', '6', '4']\n",
      "['2', '2', '2', '1', '2', '4', '2', '3', '1', '2', '4', '2', '2', '4', '2', '1', '1', '3', '2', '4', '2', '4', '2', '2', '2', '3', '2', '2', '2', '3', '1', '2', '2', '2', '3', '7', '5', '21', '4', '2', '7', '2', '5', '4', '4', '2', '4', '2', '2', '8', '3', '4', '2', '2', '2', '2', '7', '2', '2', '8', '3', '9', '5', '2', '4', '3', '4', '4', '5', '2', '5', '3', '4', '2', '4', '4', '3', '3', '5', '3', '5', '2', '3', '4', '4', '3', '2', '4', '3', '2', '4', '3', '4', '3', '4', '4', '3', '3', '5', '3']\n",
      "['52', '200', '55', '80', '150', '176', '264', '300', '150', '100', '300', '100', '264', '300', '100', '72', '80', '200', '264', '176', '70', '300', '200', '150', '200', '200', '180', '144', '90', '230', '63', '42', '122', '122', '124', '170', '297', '420', '550', '244', '297', '122', '297', '550', '300', '100', '275', '42', '122', '335', '500', '300', '100', '122', '122', '122', '650', '42', '222', '335', '140', '800', '170', '100', '200', '145', '130', '250', '300', '80', '230', '145', '200', '71', '140', '200', '110', '110', '180', '139', '300', '60', '120', '250', '195', '100', '110', '160', '110', '100', '350', '110', '224', '110', '160', '199', '120', '154', '380', '120']\n",
      "['40', '200', '60', '150', '305', '435', '310', '184', '199', '234', '200', '234', '310', '200', '234', '90', '150', '300', '310', '435', '192', '200', '425', '305', '425', '300', '298', '150', '90', '192', '63', '26', '61', '61', '43', '110', '190', '277', '355', '22', '190', '61', '190', '355', '550', '206', '150', '20', '61', '150', '1415', '217', '206', '61', '61', '61', '375', '20', '283', '150', '66', '4800', '107', '50', '93', '86', '95', '200', '202', '87', '80', '86', '114', '80', '110', '127', '186', '61', '100', '139', '202', '29', '73', '162', '110', '53', '60', '86', '63', '70', '196', '61', '119', '65', '113', '106', '70', '144', '160', '83']\n",
      "['', None, None, '', '', '', '', '', '', '', '', '', '', '', '', '', '', '', '', '', '', '', '', '', '', '', '', '', '', '', '', '', '', '', '', '', '', '', '', '', '', '', '', '', '', '', '', '', '', '', '', '', '', '', '', '', '', '', '', '', '', '', '', '', '', '', '', '', '', '', '', '', '', '', '', '', '', 'No', '', '', '', '', '', '', '', None, '', '123', '', '', '', '124', '', '', '', None, '', '', '', '']\n",
      "['HO63342840B9EB3ID', 'HO63CE42B5E3B0AID', 'HO62B162B0CB941ID', 'HO5E2567A098B1DID', 'HO60111E9AC8A8EID', 'HO6011157C5AD91ID', 'HO60234F25B1350ID', 'HO5C95074904CCEID', 'HO5D761A7479808ID', 'HO644008C85D69AID', 'HO643F76A70853FID', 'HO5E61F8008176AID', 'HO6023567A690DAID', 'HO602104D5E334EID', 'HO5E2D8B678E5E2ID', 'HO5FB288469D05DID', 'HO643F753B65799ID', 'HO643F76237C2D5ID', 'HO643F73D68C2EAID', 'HO644009415B341ID', 'HO5D9C3EB4B30D1ID', 'HO6020FA043326EID', 'HO643F764A0BC12ID', 'HO643F753959145ID', 'HO60111194ADAC3ID', 'HO5E65C254CEA8EID', 'HO63420EFCB4F27ID', 'HO5DC7C27820519ID', 'HO63DCB537D3D51ID', 'HO63CE789628851ID', 'HO613B0DED5A610ID', 'HO63BCE7F57887DID', 'HO641868B6663C8ID', 'HO63EA55B559A0BID', 'HO64247394A477FID', 'HO641A8B0EC2F65ID', 'HO63B55929249F2ID', 'HO638198568E09DID', 'HO632468890866EID', 'HO64073006B18C8ID', 'HO642CFA8A98DBEID', 'HO63D4F94D21D12ID', 'HO63724ED986C26ID', 'HO6392A7188E511ID', 'HO6411766BE186DID', 'HO63DCFAD1A7145ID', 'HO60BF45A560CF1ID', 'HO62F0F321CC00DID', 'HO63EA58CBD15A8ID', 'HO643E80C1A4DC6ID', 'HO5EF9B3E6BA593ID', 'HO61AC4763C696EID', 'HO63BCD0D289F04ID', 'HO63EA580577784ID', 'HO63E330DE9DF5FID', 'HO63E3BE410E4D9ID', 'HO623310319BB02ID', 'HO643D6001C8BAEID', 'HO62DDF5B18C32DID', 'HO61E8E6CF790F8ID', 'HO63CC78CE54E48ID', 'HO6375C22B5E140ID', 'HO6343EC6B92230ID', 'HO640EE5B4E45A2ID', 'HO62F4ED2CDEF8CID', 'HO63D23C0D7A27FID', 'HO62C4CD0278EABID', 'HO63A95AA5A6E5FID', 'HO631FFB6AAD51CID', 'HO6364BC3D573C4ID', 'HO62BDBABC52D78ID', 'HO63BB0A885078FID', 'HO62A06300C5E80ID', 'HO6418062D83EA0ID', 'HO62B926D44C970ID', 'HO639AB94F7FB9BID', 'HO63A44E4493A5FID', 'HO643FAE5623A77ID', 'HO643783AC2B9C3ID', 'HO643E2461E7C9DID', 'HO6322900DEF67CID', 'HO6401AC669FDCCID', 'HO6419447375442ID', 'HO63D501D173394ID', 'HO63CFFA5601026ID', 'HO632810788C955ID', 'HO641A5B506B983ID', 'HO62970BDBC4D41ID', 'HO6139DC312FEE7ID', 'HO615DBB19480E5ID', 'HO63FDB9AA52F3EID', 'HO62877992D4F86ID', 'HO63B8389B3C3E7ID', 'HO604AE6C0BF9CCID', 'HO6309ECAB256B0ID', 'HO6328108A967F6ID', 'HO63BA782D5750BID', 'HO617F629341A66ID', 'HO62124041E934BID', 'HO634678BE88739ID']\n",
      "['null', 'null', 'null', '[106.95499,-6.19651]', '[106.95499,-6.19651]', '[106.95499,-6.19651]', '[106.95499,-6.19651]', '[106.95499,-6.19651]', '[106.95499,-6.19651]', '[106.95499,-6.19651]', '[106.95499,-6.19651]', '[106.95499,-6.19651]', '[106.95499,-6.19651]', '[106.95499,-6.19651]', '[106.95499,-6.19651]', '[106.95499,-6.19651]', '[106.95499,-6.19651]', '[106.95499,-6.19651]', '[106.95499,-6.19651]', '[106.95499,-6.19651]', '[106.95499,-6.19651]', '[106.95499,-6.19651]', '[106.95499,-6.19651]', '[106.95499,-6.19651]', '[106.95499,-6.19651]', '[106.95499,-6.19651]', '[106.94983,-6.19658]', '[106.94983,-6.19658]', '[106.95507,-6.19652]', '[106.95507,-6.19652]', '[106.849073,-6.193157]', '[106.85008,-6.19387]', '[106.84984,-6.19157]', '[106.84984,-6.19157]', '[106.850421185,-6.1950995524559]', '[106.85159,-6.1934]', '[106.85159,-6.1934]', '[106.85159,-6.1934]', '[106.8518,-6.1921]', '[106.8518,-6.1921]', '[106.8518,-6.1921]', '[106.8518,-6.1921]', '[106.8518,-6.1921]', '[106.8518,-6.1921]', '[106.8518,-6.1921]', '[106.8518,-6.1921]', '[106.8518,-6.1921]', '[106.8518,-6.1921]', '[106.8518,-6.1921]', '[106.8518,-6.1921]', '[106.8518,-6.1921]', '[106.8518,-6.1921]', '[106.8518,-6.1921]', '[106.8518,-6.1921]', '[106.8518,-6.1921]', '[106.8518,-6.1921]', '[106.8518,-6.1921]', '[106.8518,-6.1921]', '[106.8518,-6.1921]', '[106.8518,-6.1921]', '[106.8029,-6.3454]', '[106.8029,-6.3454]', '[106.8029,-6.3454]', '[106.8029,-6.3454]', '[106.8029,-6.3454]', '[106.80943550727,-6.3343581041538]', '[106.8029,-6.3454]', '[106.8029,-6.3454]', 'null', '[106.8029,-6.3454]', '[106.8029,-6.3454]', '[106.80807,-6.33191]', '[106.8029,-6.3454]', '[106.8029,-6.3454]', '[106.8029,-6.3454]', '[106.8029,-6.3454]', '[106.8029,-6.3454]', '[106.8029,-6.3454]', '[106.80818950788,-6.3448183930318]', '[106.80295680002,-6.3458327970132]', '[106.81598098607,-6.3331241781799]', '[0,0]', '[106.81966,-6.3345]', '[106.8029,-6.3454]', '[106.8029,-6.3454]', 'null', '[106.8029,-6.3454]', '[106.8029,-6.3454]', '[106.8029,-6.3454]', '[106.8029,-6.3454]', '[106.8029,-6.3454]', '[106.8029,-6.3454]', '[106.83276,-6.33993]', '[106.8029,-6.3454]', '[106.8029,-6.3454]', 'null', '[106.80661,-6.33745]', '[106.8029,-6.3454]', '[106.8029,-6.3454]', '[106.8029,-6.3454]']\n",
      "['https://www.lamudi.co.id/wujudkan-dan-desain-hanya-200-jutaan-2-lantai-beeg-166436256018.html', 'https://www.lamudi.co.id/rumah-kedungmundu-murah-dibawah-pasaran-167446187794.html', 'https://www.lamudi.co.id/rumah-2-lt-hot-promo-launching-23-april-2022-lippo-village-karawaci-81.html', 'https://www.lamudi.co.id/rumah-siap-huni-luas-10x15-type-3kt-di-pulogebang-permai-cakung-jakarta-timur-4.html', 'https://www.lamudi.co.id/rumah-siap-huni-luas-15x20-type-6-1kt-di-pulogebang-permai-cakung-jakarta-timur.html', 'https://www.lamudi.co.id/rumah-hoek-siap-huni-luas-17x25-type-5kt-pulogebang-permai-cakung-jakarta-timur.html', 'https://www.lamudi.co.id/rumah-2lt-siap-huni-luas-12x25-type-4kt-pulogebang-permai-cakung-jakarta-timur.html', 'https://www.lamudi.co.id/rumah-2-lantai-luas-12x15-3-type-5kt-uf-pulo-gebang-permai-cakung-jakarta-timur-6.html', 'https://www.lamudi.co.id/jual-rumah-1-lantai-siap-huni-di-pulogebang-permai-ujung-menteng-jakarta-timur.html', 'https://www.lamudi.co.id/rumah-hoek-siap-huni-luas-15x15m-type-3kt-di-pulog-168191815281.html', 'https://www.lamudi.co.id/rumah-3lantai-luas-8x25-200m-type-4kt-pulogebang-p-168188074389.html', 'https://www.lamudi.co.id/rumah-hoek-siap-huni-luas-15x15m-type-3kt-di-pulogebang-permai-jakarta-timur.html', 'https://www.lamudi.co.id/rumah-2lt-siap-huni-luas-12x25-type-4kt-pulogebang-165936214046.html', 'https://www.lamudi.co.id/rumah-3lantai-siap-huni-luas-8x25-200m-type-4kt-pu-165936204998.html', 'https://www.lamudi.co.id/rumah-siap-huni-dengan-luas-15x15-type-3kt-posisi-hook-di-pulogebang-permai-ma.html', 'https://www.lamudi.co.id/rumah-1-lantai-siap-huni-di-pulo-gebang-permai-cakung-jakarta-timur.html', 'https://www.lamudi.co.id/rumah-siap-huni-luas-10x15-type-3kt-di-pulogebang-168188037975.html', 'https://www.lamudi.co.id/rumah-siap-huni-luas-12x25-type-4kt-di-pulogebang-168188061183.html', 'https://www.lamudi.co.id/rumah-2lt-siap-huni-luas-12x25-type-4kt-pulogebang-168188002291.html', 'https://www.lamudi.co.id/rumah-hoek-siap-huni-luas-17x25-type-5kt-pulogeban-168191827393.html', 'https://www.lamudi.co.id/rumah-siap-huni-luas-8x24-type-3kt-di-pulogebang-permai-cakung-jakarta-timur.html', 'https://www.lamudi.co.id/rumah-3lantai-luas-8x25-200m-type-4kt-pulogebang-permai-cakung-jakarta-timur.html', 'https://www.lamudi.co.id/rumah-siap-huni-luas-20x22-425m-type-5kt-komplek-p-16818806509.html', 'https://www.lamudi.co.id/rumah-siap-huni-luas-15x20-type-6-1kt-di-pulogeban-168188037730.html', 'https://www.lamudi.co.id/rumah-siap-huni-luas-20x22-425m-type-5kt-komplek-pertamina-cakung-jakarta-timut.html', 'https://www.lamudi.co.id/rumah-siap-huni-luas-12x25-type-4kt-di-pulogebang-permai-cakung-jakarta-timur.html', 'https://www.lamudi.co.id/rumah-ungu-cantik-di-pulogebang-permai-pulo-gebang-168051043253.html', 'https://www.lamudi.co.id/rumah-dengan-luas-10x50-type-3kt-di-pulo-gebang-permai-cakung-jakarta-timur.html', 'https://www.lamudi.co.id/rumah-siap-huni-di-perumahan-pulo-gebang-permai-k0-167540869582.html', 'https://www.lamudi.co.id/dijual-rumah-tinggal-hook-bagus-di-pulogebang-perm-167447567035.html', 'https://www.lamudi.co.id/rumah-murah-bandung-barat-hanya-300jutaan-gaya-vil-165936388139.html', 'https://www.lamudi.co.id/di-jual-rumah-murah-meriah-percetakan-negara-jakar-167332453363.html', 'https://www.lamudi.co.id/jual-rumah-kos-jl-kramat-lontar-xiv-gg-6-paseban-j-167932127046.html', 'https://www.lamudi.co.id/rumah-kosan-9kmr-di-salemba-njop-770jt-167630174948.html', 'https://www.lamudi.co.id/dijual-rumah-1-2-jadi-di-cempaka-putih-barat-jakar-168011048483.html', 'https://www.lamudi.co.id/dijual-cepat-rumah-kost-2-lantai-di-salemba-jakart-167946113470.html', 'https://www.lamudi.co.id/rumah-dijual-bu-3-lantai-di-salemba-tengah-jakarta-167282922513.html', 'https://www.lamudi.co.id/dijual-rumah-kos-3-lantai-kondisi-sangat-bagus-di-166943752686.html', 'https://www.lamudi.co.id/dijual-cepat-rumah-tinggal-di-salemba-bluntas-166333044116.html', 'https://www.lamudi.co.id/akan-segera-di-bangun-cluster-humaira-di-johar-bar-167819264632.html', 'https://www.lamudi.co.id/dijual-murah-rumah-di-salemba-tengah-paseban-senen-168066932296.html', 'https://www.lamudi.co.id/rumah-kosan-sultan-9kmr-di-salemba-jakarta-pusat-167490183752.html', 'https://www.lamudi.co.id/rumah-hook-area-salemba-150-meter-ke-stasiun-krama-166843567359.html', 'https://www.lamudi.co.id/rumah-hook-cocok-kost-kostan-100-meter-ke-salemba-167055541631.html', 'https://www.lamudi.co.id/rumah-tanah-luas-di-jakarta-pusat-untuk-kantor-dan-167886602740.html', 'https://www.lamudi.co.id/rumah-layak-huni-cocok-kos2an-paseban-jakarta-pusa-167542651358.html', 'https://www.lamudi.co.id/dijual-rumah-cantik-di-jln-paseban-salemba-jakarta-pusat-1.html', 'https://www.lamudi.co.id/rumah-modern-modern-440jt-an-di-gg-percetakan-nega-167772445819.html', 'https://www.lamudi.co.id/turun-harga-rumah-kosan-9kmr-di-salemba-njop-770jt-167630253980.html', 'https://www.lamudi.co.id/jual-rumah-percetakan-negara-168181779332.html', 'https://www.lamudi.co.id/rumah-jakarta-pusat-paseban-raya-ijin-komersil.html', 'https://www.lamudi.co.id/rumah-murah-dekat-kampus-ui.html', 'https://www.lamudi.co.id/rumah-paseban-lokasi-strategis-cocok-utk-usaha-kos-167331861068.html', 'https://www.lamudi.co.id/rumah-di-salemba-700-jutaan-167630234145.html', 'https://www.lamudi.co.id/rmh-kos-di-salemba-9kmr-2lt-nilai-njop-770jt-167583356674.html', 'https://www.lamudi.co.id/rumah-tinggal-gratis-kosan-9kmr-di-paseban-jakarta-167586976159.html', 'https://www.lamudi.co.id/dijual-rumah-mewah-jln-kramat-paseban-salemba-jakarta-pusat.html', 'https://www.lamudi.co.id/rumah-modern-modern-440jt-an-di-gg-percetakan-nega-168174387355.html', 'https://www.lamudi.co.id/rumah-luas-paseban-salemba-165871352190.html', 'https://www.lamudi.co.id/jual-rumah-percetakan-negara.html', 'https://www.lamudi.co.id/rumah-classic-3-lantai-harga-ekonomis-lokasi-strat-167434465425.html', 'https://www.lamudi.co.id/dijual-cepat-rumah-mewah-di-jagakarsa-jaksel-166866180322.html', 'https://www.lamudi.co.id/rumah-lux-modern-classic-di-jagakarsa-jakarta-sela-167781339758.html', 'https://www.lamudi.co.id/rumah-mewah-classic-harga-ekonomis-di-jagakarsa-ak-16786979083.html', 'https://www.lamudi.co.id/rumah-mewah-dijual-di-jakarta-selatan-dekat-mall-c-166021866838.html', 'https://www.lamudi.co.id/rumah-mewah-murah-jagakarsa-jakarta-selatan-167472231731.html', 'https://www.lamudi.co.id/rumah-classic-modern-termurah-jagakarsa.html', 'https://www.lamudi.co.id/rumah-mewah-dalam-komplek-jagakarsa-167204317318.html', 'https://www.lamudi.co.id/dijual-townhouse-mewah-lokasi-strategis-di-jagakar-166304036225.html', 'https://www.lamudi.co.id/rumah-design-modern-jagakarsa-jakarta-selatan-166754617349.html', 'https://www.lamudi.co.id/rumah-classic-3-lantai-mewah-murah.html', 'https://www.lamudi.co.id/rumah-indent-jalan-damai-jagakarsa-ciganjur-dkt-ra-167320231263.html', 'https://www.lamudi.co.id/jual-rumah-murah-di-jagakarsa-jakarta-selatan-dekat-andara.html', 'https://www.lamudi.co.id/rumah-modern-tropis-vasa-jagakarsa-jakarta-selatan-168171399228.html', 'https://www.lamudi.co.id/rumah-minimalis-modern-di-pomentia-residence-jagak-167895288647.html', 'https://www.lamudi.co.id/cluster-galaxy-resident-tahap-1-167108436731.html', 'https://www.lamudi.co.id/jual-rumah-minimalis-luas-siap-kpr-di-jagakarsa-ja-16789743917.html', 'https://www.lamudi.co.id/rumah-baru-model-townhouse-elegan-di-jagakarsa-168189499876.html', 'https://www.lamudi.co.id/rumah-di-jual-di-jagakarsa-harga-murah-168138378886.html', 'https://www.lamudi.co.id/jual-rumah-strategis-mainroad-kawasan-ragunan-jaga-168179414596.html', 'https://www.lamudi.co.id/rumah-mewah-tiga-lantai-dengan-private-pool-di-jag-166320948583.html', 'https://www.lamudi.co.id/rumah-minimalis-akses-mobil-termurah-167783127071.html', 'https://www.lamudi.co.id/rumah-keren-on-progres-di-area-strategis-jagakarsa-167937752322.html', 'https://www.lamudi.co.id/rumah-murah-american-classic-pool-samping-ragunan-167490401773.html', 'https://www.lamudi.co.id/furnished-rumah-jagakarsa-cipedak-cluster-startegi-167457442213.html', 'https://www.lamudi.co.id/new-cluster-dgn-konsep-clasic-modern-minimalis-di-166357004083.html', 'https://www.lamudi.co.id/di-jual-murah-rumah-non-cluster-gaya-minimalis-di-167944891248.html', 'https://www.lamudi.co.id/rumah-di-jual-jagakarsa-jak-sel.html', 'https://www.lamudi.co.id/rumah-classic-dalam-townhouse-akses-jalan-2-mobil.html', 'https://www.lamudi.co.id/rumah-baru-siap-huni-lokasi-sangat-strategis-di-jagakarsa-jaksel.html', 'https://www.lamudi.co.id/rumah-classic-premium-komplek-private-pool-jagakar-167757252227.html', 'https://www.lamudi.co.id/rumah-di-jual-di-jagakarsa-7-unit.html', 'https://www.lamudi.co.id/town-house-2-lantai-strategis-di-jln-raya-lenteng-167301749923.html', 'https://www.lamudi.co.id/rumah-siap-huni-non-cluster-dijagakarsa-jakarta-selatan.html', 'https://www.lamudi.co.id/rumah-classic-modern-siap-huni-dekat-pintu-tol-jag-166159479588.html', 'https://www.lamudi.co.id/rumah-mewah-siap-huni-2-5lantai-luas-160-lokasi-st-166357005822.html', 'https://www.lamudi.co.id/rumah-murah-2-lantai-di-jagakarsa-jakarta-selatan-167316484530.html', 'https://www.lamudi.co.id/jual-rumah-full-furnish-2-lantai-di-jagakarsa-dan-dekat-gerbang-tol-brigif-depok.html', 'https://www.lamudi.co.id/brand-news-luxury-american-modern-house-with-privat-pool.html', 'https://www.lamudi.co.id/dijual-rumah-murah-klasik-modern-jagakarsa-jakarta-166556281410.html']\n"
     ]
    }
   ],
   "source": [
    "print(data_price_s[:100])\n",
    "print(data_category_s[:100])\n",
    "print(data_subcategories_s[:100])\n",
    "print(data_bedrooms_s[:100])\n",
    "print(data_bathrooms_s[:100])\n",
    "print(data_building_size_s[:100])\n",
    "print(data_land_size_s[:100])\n",
    "print(data_furnished_s[:100])\n",
    "print(data_sku_s[:100])\n",
    "print(data_geo_point_s[:100])\n",
    "print(page_link_s[:100])"
   ]
  },
  {
   "cell_type": "code",
   "execution_count": null,
   "metadata": {},
   "outputs": [],
   "source": []
  }
 ],
 "metadata": {
  "kernelspec": {
   "display_name": "house_price_env",
   "language": "python",
   "name": "python3"
  },
  "language_info": {
   "codemirror_mode": {
    "name": "ipython",
    "version": 3
   },
   "file_extension": ".py",
   "mimetype": "text/x-python",
   "name": "python",
   "nbconvert_exporter": "python",
   "pygments_lexer": "ipython3",
   "version": "3.9.13"
  },
  "orig_nbformat": 4
 },
 "nbformat": 4,
 "nbformat_minor": 2
}
